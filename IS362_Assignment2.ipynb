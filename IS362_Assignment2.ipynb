{
 "cells": [
  {
   "cell_type": "markdown",
   "metadata": {},
   "source": [
    "## Assignment 2\n",
    "\n",
    "\"Your week 2 assignment is to create a small Jupyter (IPython) Notebook about one aspect of data structures that you might find somewhat challenging, such as set comprehensions, or using the zip() function.  Your Jupyter Notebook should include both code and some documentation, which should utilize Markdown.\"\n",
    "\n",
    "The data structure I find somewhat challenging is *sets*. The following is my Python code for sets:\n",
    "\n",
    "```python\n",
    "animals = [\"cat\", \"dog\", \"pig\", \"cow\"]\n",
    "animals_set = set(animals)\n",
    "animals_set.add(\"ferret\")\n",
    "animals_set.add(\"horse\")\n",
    "\n",
    "print(len(animals_set))\n",
    "\n",
    "print(animals_set)\n",
    "```\n"
   ]
  },
  {
   "cell_type": "code",
   "execution_count": null,
   "metadata": {},
   "outputs": [],
   "source": [
    "animals = [\"cat\", \"dog\", \"pig\", \"cow\"]\n",
    "animals_set = set(animals)\n",
    "animals_set.add(\"ferret\")\n",
    "animals_set.add(\"horse\")\n",
    "\n",
    "print(len(animals_set))\n",
    "print(animals_set)\n",
    "print(dir(animals_set))\n"
   ]
  },
  {
   "cell_type": "code",
   "execution_count": null,
   "metadata": {},
   "outputs": [],
   "source": []
  }
 ],
 "metadata": {
  "kernelspec": {
   "display_name": "Python 3",
   "language": "python",
   "name": "python3"
  },
  "language_info": {
   "codemirror_mode": {
    "name": "ipython",
    "version": 3
   },
   "file_extension": ".py",
   "mimetype": "text/x-python",
   "name": "python",
   "nbconvert_exporter": "python",
   "pygments_lexer": "ipython3",
   "version": "3.7.3"
  }
 },
 "nbformat": 4,
 "nbformat_minor": 2
}
